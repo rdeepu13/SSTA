{
  "nbformat": 4,
  "nbformat_minor": 0,
  "metadata": {
    "colab": {
      "provenance": [],
      "include_colab_link": true
    },
    "kernelspec": {
      "name": "python3",
      "display_name": "Python 3"
    },
    "language_info": {
      "name": "python"
    }
  },
  "cells": [
    {
      "cell_type": "markdown",
      "metadata": {
        "id": "view-in-github",
        "colab_type": "text"
      },
      "source": [
        "<a href=\"https://colab.research.google.com/github/rdeepu13/SSTA/blob/main/SSTA.ipynb\" target=\"_parent\"><img src=\"https://colab.research.google.com/assets/colab-badge.svg\" alt=\"Open In Colab\"/></a>"
      ]
    },
    {
      "cell_type": "code",
      "execution_count": 1,
      "metadata": {
        "id": "6kCLxb8CqmWT"
      },
      "outputs": [],
      "source": [
        "import math\n",
        "import numpy as np\n",
        "from scipy import stats\n",
        "from scipy.linalg import eigh\n",
        "from scipy.stats import norm\n",
        "from scipy.special import erf\n",
        "import networkx as nx\n",
        "import matplotlib.pyplot as plt"
      ]
    },
    {
      "cell_type": "markdown",
      "source": [
        "\n",
        "\n",
        "```\n",
        "Computes the mean and standard deviation of the sum of two Gaussian (normal) distributions.\n",
        "Args:\n",
        "        mean1: Mean of the first Gaussian distribution.\n",
        "        std_dev1: Standard deviation of the first Gaussian distribution.\n",
        "        mean2: Mean of the second Gaussian distribution.\n",
        "        std_dev2: Standard deviation of the second Gaussian distribution.\n",
        "\n",
        "Returns:\n",
        "        A tuple containing the mean and standard deviation of the resulting Gaussian distribution.\n",
        "\n",
        "```\n",
        "\n"
      ],
      "metadata": {
        "id": "ZYxDB_5Jsfyh"
      }
    },
    {
      "cell_type": "code",
      "source": [
        "def sum_gaussians(dist1, dist2):\n",
        "    \"\"\"Sums two Gaussian distributions.\"\"\"\n",
        "    result_mean = dist1.mean() + dist2.mean()\n",
        "    result_std_dev = math.sqrt(dist1.std()**2 + dist2.std()**2)\n",
        "    return norm(result_mean, result_std_dev)\n",
        "\n",
        "# Example Gaussian distributions\n",
        "dist1 = norm(5, 2)  # Mean = 3, Standard Deviation = 1\n",
        "dist2 = norm(10, 3)  # Mean = 5, Standard Deviation = 2\n",
        "\n",
        "# Sum the Gaussian distributions\n",
        "sum_distribution = sum_gaussians(dist1, dist2)\n",
        "\n",
        "# Print the result\n",
        "print(\"Sum of Gaussian Distributions:\")\n",
        "print(\"Mean:\", sum_distribution.mean())\n",
        "print(\"Standard Deviation:\", sum_distribution.std())"
      ],
      "metadata": {
        "colab": {
          "base_uri": "https://localhost:8080/"
        },
        "id": "Q8UdZ9ugE7JI",
        "outputId": "eb361b72-7eba-405d-a961-ae3b5dfe57ae"
      },
      "execution_count": 2,
      "outputs": [
        {
          "output_type": "stream",
          "name": "stdout",
          "text": [
            "Sum of Gaussian Distributions:\n",
            "Mean: 15.0\n",
            "Standard Deviation: 3.605551275463989\n"
          ]
        }
      ]
    },
    {
      "cell_type": "markdown",
      "source": [
        "```\n",
        "Approximate the mean and standard deviation of the maximum of two Gaussian distributions.\n",
        "\n",
        "    Args:\n",
        "        mean_di (float): Mean of the first Gaussian distribution.\n",
        "        stddev_di (float): Standard deviation of the first Gaussian distribution.\n",
        "        mean_dj (float): Mean of the second Gaussian distribution.\n",
        "        stddev_dj (float): Standard deviation of the second Gaussian distribution.\n",
        "        cov_dij (float): Covariance between the two Gaussian distributions.\n",
        "\n",
        "    Returns:\n",
        "        tuple: Approximated mean and standard deviation of the maximum.\n",
        "```"
      ],
      "metadata": {
        "id": "k1WZdWpBtcOw"
      }
    },
    {
      "cell_type": "code",
      "source": [
        "import math\n",
        "from scipy.stats import norm\n",
        "\n",
        "def calculate_alpha(mean_di, stddev_di, mean_dj, stddev_dj, cov_dij):\n",
        "    alpha = math.sqrt(stddev_di**2 + stddev_dj**2 - 2 * stddev_di * stddev_dj * cov_dij)\n",
        "    return alpha\n",
        "\n",
        "def approximate_dmax(mean_di, stddev_di, mean_dj, stddev_dj, cov_dij):\n",
        "    # Check if standard deviations are zero (to avoid division by zero)\n",
        "    if stddev_di == 0:\n",
        "        return norm(mean_dj, stddev_dj)  # Return the distribution with non-zero variance\n",
        "    if stddev_dj == 0:\n",
        "        return norm(mean_di, stddev_di)\n",
        "    alpha = calculate_alpha(mean_di, stddev_di, mean_dj, stddev_dj, cov_dij)\n",
        "\n",
        "    # Handle cases where alpha is very close to zero (to avoid numerical instability)\n",
        "    if abs(alpha) < 1e-10:\n",
        "        alpha = 1e-10  # Set a small value to avoid division by zero\n",
        "    # Calculate beta\n",
        "    beta = (mean_di - mean_dj) / alpha\n",
        "    # Calculate mean of d_max\n",
        "    mu_t = mean_di * norm.cdf(beta) + mean_dj * norm.cdf(-beta) + alpha * norm.pdf(beta)\n",
        "    # Calculate variance of d_max\n",
        "    variance_t = (mean_di**2 + stddev_di**2) * norm.cdf(beta) + (mean_dj**2 + stddev_dj**2) * norm.cdf(-beta) + (mean_di + mean_dj) * alpha * norm.pdf(beta) - mu_t**2\n",
        "    # Ensure variance is non-negative\n",
        "    variance_t = max(variance_t, 0)\n",
        "    stddev_t = math.sqrt(variance_t)\n",
        "    return norm(mu_t, stddev_t)\n",
        "\n",
        "# Example usage d_max:\n",
        "mean_di = 10\n",
        "stddev_di = 2\n",
        "mean_dj = 12\n",
        "stddev_dj = 3\n",
        "cov_dij = 0.5\n",
        "# Calculate the approximate maximum distribution\n",
        "max_dist = approximate_dmax(mean_di, stddev_di, mean_dj, stddev_dj, cov_dij)\n",
        "# Print mean and standard deviation separately\n",
        "print(\"Approximated mean of d_max:\", max_dist.mean())\n",
        "print(\"Approximated standard deviation of d_max:\", max_dist.std())"
      ],
      "metadata": {
        "colab": {
          "base_uri": "https://localhost:8080/"
        },
        "id": "z5ys7X9FFS_W",
        "outputId": "e1d079d7-42f3-4b56-dcb4-5ccf8b318682"
      },
      "execution_count": 3,
      "outputs": [
        {
          "output_type": "stream",
          "name": "stdout",
          "text": [
            "Approximated mean of d_max: 12.343494033975771\n",
            "Approximated standard deviation of d_max: 2.6590965168171907\n"
          ]
        }
      ]
    },
    {
      "cell_type": "markdown",
      "source": [
        "```\n",
        " calculate the total delay of a path through the circuit by summing up the delays of each gate and wire it passes through, as we have confirmed earlier. If a gate delay for a node or a wire delay for an edge isn't present, it will show a warning and assume 0 delay.\n",
        " ```"
      ],
      "metadata": {
        "id": "utWj70HY1GBs"
      }
    },
    {
      "cell_type": "code",
      "source": [
        "wire_delay_params = {\n",
        "    ('SOURCE', '1'): norm(0, 0),  # Virtual source to input\n",
        "    ('SOURCE', '2'): norm(0, 0),\n",
        "    ('SOURCE', '3'): norm(0, 0),\n",
        "    ('SOURCE', '6'): norm(0, 0),\n",
        "    ('SOURCE', '7'): norm(0, 0),\n",
        "    ('1', '10'): norm(0.5, 0.05),\n",
        "    ('3', '10'): norm(1.0, 0.1),\n",
        "    ('3', '11'): norm(0.6, 0.08),\n",
        "    ('6', '11'): norm(0.7, 0.09),\n",
        "    ('2', '16'): norm(0.4, 0.04),\n",
        "    ('11', '16'): norm(0.8, 0.1),\n",
        "    ('11', '19'): norm(0.55, 0.06),\n",
        "    ('7', '19'): norm(0.9, 0.12),\n",
        "    ('10', '22'): norm(0.3, 0.03),\n",
        "    ('16', '22'): norm(1.1, 0.15),\n",
        "    ('16', '23'): norm(0.7, 0.1),\n",
        "    ('19', '23'): norm(1.2, 0.18),\n",
        "    ('22', 'OUTPUT(22)'): norm(0.01, 0.001), # Output to virtual sink,\n",
        "    ('23', 'OUTPUT(23)'): norm(0.01, 0.001)\n",
        "}\n",
        "\n",
        "# --- Enhanced Graph Structure ---\n",
        "graph_data = {\n",
        "    '1': {'type': 'INPUT'},\n",
        "    '2': {'type': 'INPUT'},\n",
        "    '3': {'type': 'INPUT'},\n",
        "    '6': {'type': 'INPUT'},\n",
        "    '7': {'type': 'INPUT'},\n",
        "    '10': {'type': 'NAND', 'inputs': ['1', '3'], 'gate_delay': norm(1.0, 0.1)},\n",
        "    '11': {'type': 'NAND', 'inputs': ['3', '6'], 'gate_delay': norm(1.2, 0.15)},\n",
        "    '16': {'type': 'NAND', 'inputs': ['2', '11'], 'gate_delay': norm(0.9, 0.09)},\n",
        "    '19': {'type': 'NAND', 'inputs': ['11', '7'], 'gate_delay': norm(1.1, 0.12)},\n",
        "    '22': {'type': 'NAND', 'inputs': ['10', '16'], 'gate_delay': norm(0.8, 0.08)},\n",
        "    '23': {'type': 'NAND', 'inputs': ['16', '19'], 'gate_delay': norm(1.3, 0.16)},\n",
        "    'OUTPUT(22)': {'type': 'OUTPUT', 'source': '22'},\n",
        "    'OUTPUT(23)': {'type': 'OUTPUT', 'source': '23'}\n",
        "}\n"
      ],
      "metadata": {
        "id": "RCQhVdK1ZLq6"
      },
      "execution_count": 4,
      "outputs": []
    },
    {
      "cell_type": "code",
      "source": [
        "# --- Graph Creation ---\n",
        "G = nx.DiGraph()\n",
        "virtual_source = 'SOURCE'\n",
        "virtual_sink = 'SINK'\n",
        "\n",
        "# Add all nodes to the graph (including virtual and output nodes)\n",
        "for node, data in graph_data.items():\n",
        "    G.add_node(node, **data)  # Add all node attributes directly\n",
        "\n",
        "# Add edges from 'wire_delay_params'\n",
        "for (u, v), delay_dist in wire_delay_params.items():\n",
        "    G.add_edge(u, v, delay=delay_dist)  # Add edges and their delays\n",
        "\n"
      ],
      "metadata": {
        "id": "zMHiVfX1IQp4"
      },
      "execution_count": 5,
      "outputs": []
    },
    {
      "cell_type": "code",
      "source": [
        "import networkx as nx\n",
        "from scipy.stats import norm\n",
        "\n",
        "def calculate_es_ls(G):\n",
        "    # Initialize ES for all nodes with a normal distribution\n",
        "    for node in G.nodes:\n",
        "        G.nodes[node]['es'] = norm(0.0001, 0.00001)  # Start with a small ES distribution\n",
        "\n",
        "    # Perform forward pass to calculate ES\n",
        "    for node in nx.topological_sort(G):\n",
        "        max_es_mean = 0.0001\n",
        "        max_es_std = 0.00001\n",
        "\n",
        "        for predecessor in G.predecessors(node):\n",
        "            delay_dist = G[predecessor][node]['delay']\n",
        "            predecessor_es_sample = G.nodes[predecessor]['es'].rvs()\n",
        "            x = predecessor_es_sample + delay_dist.rvs()  # Sampled sum of predecessor's ES and delay\n",
        "\n",
        "            # Update max ES mean and std\n",
        "            max_es_mean = max(max_es_mean, x)  # Update mean\n",
        "            max_es_std = (max_es_std**2 + delay_dist.std()**2)**0.5  # Update std\n",
        "\n",
        "        # Update ES for the current node with the calculated max ES\n",
        "        G.nodes[node]['es'] = norm(max_es_mean, max_es_std)\n",
        "\n",
        "# Example usage:\n",
        "G = nx.DiGraph()\n",
        "\n",
        "# Add nodes and edges to the graph\n",
        "graph_data = {\n",
        "    '1': {'type': 'INPUT'},\n",
        "    '2': {'type': 'INPUT'},\n",
        "    '3': {'type': 'INPUT'},\n",
        "    '6': {'type': 'INPUT'},\n",
        "    '7': {'type': 'INPUT'},\n",
        "    '10': {'type': 'NAND'},\n",
        "    '11': {'type': 'NAND'},\n",
        "    '16': {'type': 'NAND'},\n",
        "    '19': {'type': 'NAND'},\n",
        "    '22': {'type': 'NAND'},\n",
        "    '23': {'type': 'NAND'},\n",
        "    'OUTPUT(22)': {'type': 'OUTPUT'},\n",
        "    'OUTPUT(23)': {'type': 'OUTPUT'}\n",
        "}\n",
        "\n",
        "wire_delay_params = {\n",
        "    ('SOURCE', '1'): norm(0.5, 0.05),\n",
        "    ('SOURCE', '2'): norm(0.4, 0.04),\n",
        "    ('SOURCE', '3'): norm(0.6, 0.06),\n",
        "    ('SOURCE', '6'): norm(0.7, 0.07),\n",
        "    ('SOURCE', '7'): norm(0.8, 0.08),\n",
        "    ('1', '10'): norm(0.5, 0.05),\n",
        "    ('3', '10'): norm(1.0, 0.1),\n",
        "    ('3', '11'): norm(0.6, 0.08),\n",
        "    ('6', '11'): norm(0.7, 0.09),\n",
        "    ('2', '16'): norm(0.4, 0.04),\n",
        "    ('11', '16'): norm(0.8, 0.1),\n",
        "    ('11', '19'): norm(0.55, 0.06),\n",
        "    ('7', '19'): norm(0.9, 0.12),\n",
        "    ('10', '22'): norm(0.3, 0.03),\n",
        "    ('16', '22'): norm(1.1, 0.15),\n",
        "    ('16', '23'): norm(0.7, 0.1),\n",
        "    ('19', '23'): norm(1.2, 0.18),\n",
        "    ('22', 'OUTPUT(22)'): norm(0.01, 0.001),\n",
        "    ('23', 'OUTPUT(23)'): norm(0.01, 0.001)\n",
        "}\n",
        "\n",
        "# Add nodes and edges to the graph based on graph_data and wire_delay_params\n",
        "for node, data in graph_data.items():\n",
        "    G.add_node(node, **data)\n",
        "\n",
        "for (u, v), delay_dist in wire_delay_params.items():\n",
        "    G.add_edge(u, v, delay=delay_dist)\n",
        "\n",
        "# Calculate ES for each node in the graph\n",
        "calculate_es_ls(G)\n",
        "\n",
        "# Print ES for each node\n",
        "for node in G.nodes:\n",
        "    es_distribution = G.nodes[node]['es']\n",
        "    print(f\"Node {node}: ES = {es_distribution.mean()}, Std = {es_distribution.std()}\")\n"
      ],
      "metadata": {
        "colab": {
          "base_uri": "https://localhost:8080/"
        },
        "id": "64IhuLzJTVGb",
        "outputId": "5a7ebe07-34da-4992-a538-e5f41aa4bd8c"
      },
      "execution_count": 6,
      "outputs": [
        {
          "output_type": "stream",
          "name": "stdout",
          "text": [
            "Node 1: ES = 0.46751470905221687, Std = 0.050000000999999995\n",
            "Node 2: ES = 0.3989792933943225, Std = 0.04000000124999998\n",
            "Node 3: ES = 0.5795024306338146, Std = 0.060000000833333324\n",
            "Node 6: ES = 0.7173045721375872, Std = 0.0700000007142857\n",
            "Node 7: ES = 0.7259947505718953, Std = 0.080000000625\n",
            "Node 10: ES = 1.5795927333193573, Std = 0.1118033993222031\n",
            "Node 11: ES = 1.381044157178528, Std = 0.12041594620315035\n",
            "Node 16: ES = 2.1811144998292527, Std = 0.10770329660692844\n",
            "Node 19: ES = 2.0516812154061377, Std = 0.1341640790226654\n",
            "Node 22: ES = 3.5258764958031747, Std = 0.15297058573464375\n",
            "Node 23: ES = 3.231079116624959, Std = 0.20591260306256148\n",
            "Node OUTPUT(22): ES = 3.3918286048818738, Std = 0.0010000499987500625\n",
            "Node OUTPUT(23): ES = 3.064769930967477, Std = 0.0010000499987500625\n",
            "Node SOURCE: ES = 0.0001, Std = 1e-05\n"
          ]
        }
      ]
    }
  ]
}